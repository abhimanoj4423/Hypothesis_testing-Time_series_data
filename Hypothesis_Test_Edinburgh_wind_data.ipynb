{
 "cells": [
  {
   "cell_type": "markdown",
   "metadata": {
    "id": "e_F-BUCgS8pf"
   },
   "source": [
    "# Hypothesis Testing on wind speed dataset"
   ]
  },
  {
   "cell_type": "markdown",
   "metadata": {
    "id": "qSjYxa1NXr0M"
   },
   "source": [
    "# 1. Exploratory Data Analysis"
   ]
  },
  {
   "cell_type": "code",
   "execution_count": 53,
   "metadata": {
    "id": "wABKUBkFStxX"
   },
   "outputs": [],
   "source": [
    "import pandas as pd\n",
    "import numpy as np\n",
    "import matplotlib.pyplot as plt\n",
    "import seaborn as sns\n",
    "import scipy as sc"
   ]
  },
  {
   "cell_type": "markdown",
   "metadata": {
    "id": "Cj6gTaBWa-qi"
   },
   "source": [
    "### 1.1 Loading dataset"
   ]
  },
  {
   "cell_type": "code",
   "execution_count": 2,
   "metadata": {
    "colab": {
     "base_uri": "https://localhost:8080/",
     "height": 236
    },
    "id": "KYYG9xE3StxY",
    "outputId": "0cd99040-b369-40e8-b631-bc7d633cd3cb"
   },
   "outputs": [
    {
     "data": {
      "text/html": [
       "<div>\n",
       "<style scoped>\n",
       "    .dataframe tbody tr th:only-of-type {\n",
       "        vertical-align: middle;\n",
       "    }\n",
       "\n",
       "    .dataframe tbody tr th {\n",
       "        vertical-align: top;\n",
       "    }\n",
       "\n",
       "    .dataframe thead th {\n",
       "        text-align: right;\n",
       "    }\n",
       "</style>\n",
       "<table border=\"1\" class=\"dataframe\">\n",
       "  <thead>\n",
       "    <tr style=\"text-align: right;\">\n",
       "      <th></th>\n",
       "      <th>Column1</th>\n",
       "      <th>Date</th>\n",
       "      <th>Day</th>\n",
       "      <th>Month</th>\n",
       "      <th>Year</th>\n",
       "      <th>Hour</th>\n",
       "      <th>Wind - Mean Speed (kn)</th>\n",
       "      <th>NB1</th>\n",
       "      <th>Wind - Mean Direction</th>\n",
       "      <th>NB2</th>\n",
       "      <th>Wind - Max Gust Speed (kn)</th>\n",
       "      <th>NB3</th>\n",
       "      <th>Pressure at Mean Sea Level (hPa)</th>\n",
       "      <th>NB4</th>\n",
       "      <th>Relative Humidity</th>\n",
       "      <th>NB5</th>\n",
       "      <th>Temperature - Dry Bulb (°C)</th>\n",
       "      <th>NB6</th>\n",
       "    </tr>\n",
       "  </thead>\n",
       "  <tbody>\n",
       "    <tr>\n",
       "      <th>0</th>\n",
       "      <td>1999-2004</td>\n",
       "      <td>1999-01-01</td>\n",
       "      <td>1.0</td>\n",
       "      <td>1.0</td>\n",
       "      <td>1999.0</td>\n",
       "      <td>00:00:00</td>\n",
       "      <td>7.0</td>\n",
       "      <td></td>\n",
       "      <td>NaN</td>\n",
       "      <td>-</td>\n",
       "      <td>8.0</td>\n",
       "      <td></td>\n",
       "      <td>998.099976</td>\n",
       "      <td></td>\n",
       "      <td>93.300003</td>\n",
       "      <td></td>\n",
       "      <td>3.8</td>\n",
       "      <td></td>\n",
       "    </tr>\n",
       "    <tr>\n",
       "      <th>1</th>\n",
       "      <td>1999-2004</td>\n",
       "      <td>1999-01-01</td>\n",
       "      <td>1.0</td>\n",
       "      <td>1.0</td>\n",
       "      <td>1999.0</td>\n",
       "      <td>01:00:00</td>\n",
       "      <td>4.0</td>\n",
       "      <td></td>\n",
       "      <td>NaN</td>\n",
       "      <td>-</td>\n",
       "      <td>11.0</td>\n",
       "      <td></td>\n",
       "      <td>997.599976</td>\n",
       "      <td></td>\n",
       "      <td>96.599998</td>\n",
       "      <td></td>\n",
       "      <td>4.3</td>\n",
       "      <td></td>\n",
       "    </tr>\n",
       "  </tbody>\n",
       "</table>\n",
       "</div>"
      ],
      "text/plain": [
       "     Column1       Date  Day  Month    Year      Hour  Wind - Mean Speed (kn)  \\\n",
       "0  1999-2004 1999-01-01  1.0    1.0  1999.0  00:00:00                     7.0   \n",
       "1  1999-2004 1999-01-01  1.0    1.0  1999.0  01:00:00                     4.0   \n",
       "\n",
       "  NB1  Wind - Mean Direction  NB2  Wind - Max Gust Speed (kn) NB3  \\\n",
       "0                        NaN    -                         8.0       \n",
       "1                        NaN    -                        11.0       \n",
       "\n",
       "   Pressure at Mean Sea Level (hPa) NB4  Relative Humidity NB5  \\\n",
       "0                        998.099976              93.300003       \n",
       "1                        997.599976              96.599998       \n",
       "\n",
       "   Temperature - Dry Bulb (°C) NB6  \n",
       "0                          3.8      \n",
       "1                          4.3      "
      ]
     },
     "execution_count": 2,
     "metadata": {},
     "output_type": "execute_result"
    }
   ],
   "source": [
    "df = pd.read_excel(r\"G:\\Data analyst\\8. Hypothesis Testing\\edinburgh_final.xlsx\")\n",
    "df.head(2)"
   ]
  },
  {
   "cell_type": "code",
   "execution_count": 3,
   "metadata": {
    "colab": {
     "base_uri": "https://localhost:8080/"
    },
    "id": "wbMyXaYjX76D",
    "outputId": "cb67e1e1-a889-410f-cb8b-a441b487a370"
   },
   "outputs": [
    {
     "data": {
      "text/plain": [
       "(87674, 18)"
      ]
     },
     "execution_count": 3,
     "metadata": {},
     "output_type": "execute_result"
    }
   ],
   "source": [
    "df.shape"
   ]
  },
  {
   "cell_type": "code",
   "execution_count": 4,
   "metadata": {
    "colab": {
     "base_uri": "https://localhost:8080/",
     "height": 335
    },
    "id": "ImZQ85y2b3wt",
    "outputId": "5041a991-0db4-4d06-aff2-c412e6a15476"
   },
   "outputs": [
    {
     "data": {
      "text/html": [
       "<div>\n",
       "<style scoped>\n",
       "    .dataframe tbody tr th:only-of-type {\n",
       "        vertical-align: middle;\n",
       "    }\n",
       "\n",
       "    .dataframe tbody tr th {\n",
       "        vertical-align: top;\n",
       "    }\n",
       "\n",
       "    .dataframe thead th {\n",
       "        text-align: right;\n",
       "    }\n",
       "</style>\n",
       "<table border=\"1\" class=\"dataframe\">\n",
       "  <thead>\n",
       "    <tr style=\"text-align: right;\">\n",
       "      <th></th>\n",
       "      <th>Date</th>\n",
       "      <th>Day</th>\n",
       "      <th>Month</th>\n",
       "      <th>Year</th>\n",
       "      <th>Wind - Mean Speed (kn)</th>\n",
       "      <th>Wind - Mean Direction</th>\n",
       "      <th>Wind - Max Gust Speed (kn)</th>\n",
       "      <th>Pressure at Mean Sea Level (hPa)</th>\n",
       "      <th>Relative Humidity</th>\n",
       "      <th>Temperature - Dry Bulb (°C)</th>\n",
       "    </tr>\n",
       "  </thead>\n",
       "  <tbody>\n",
       "    <tr>\n",
       "      <th>count</th>\n",
       "      <td>87672</td>\n",
       "      <td>87672.00</td>\n",
       "      <td>87672.00</td>\n",
       "      <td>87672.00</td>\n",
       "      <td>85671.00</td>\n",
       "      <td>85096.00</td>\n",
       "      <td>85876.00</td>\n",
       "      <td>85765.00</td>\n",
       "      <td>85295.00</td>\n",
       "      <td>85913.00</td>\n",
       "    </tr>\n",
       "    <tr>\n",
       "      <th>mean</th>\n",
       "      <td>2004-01-01 00:00:00.000000128</td>\n",
       "      <td>15.73</td>\n",
       "      <td>6.52</td>\n",
       "      <td>2003.50</td>\n",
       "      <td>8.16</td>\n",
       "      <td>198.16</td>\n",
       "      <td>14.98</td>\n",
       "      <td>1012.03</td>\n",
       "      <td>80.53</td>\n",
       "      <td>9.31</td>\n",
       "    </tr>\n",
       "    <tr>\n",
       "      <th>min</th>\n",
       "      <td>1999-01-01 00:00:00</td>\n",
       "      <td>1.00</td>\n",
       "      <td>1.00</td>\n",
       "      <td>1999.00</td>\n",
       "      <td>0.00</td>\n",
       "      <td>0.00</td>\n",
       "      <td>0.00</td>\n",
       "      <td>949.70</td>\n",
       "      <td>25.10</td>\n",
       "      <td>-10.70</td>\n",
       "    </tr>\n",
       "    <tr>\n",
       "      <th>25%</th>\n",
       "      <td>2001-07-02 00:00:00</td>\n",
       "      <td>8.00</td>\n",
       "      <td>4.00</td>\n",
       "      <td>2001.00</td>\n",
       "      <td>4.00</td>\n",
       "      <td>130.00</td>\n",
       "      <td>8.00</td>\n",
       "      <td>1004.10</td>\n",
       "      <td>73.40</td>\n",
       "      <td>5.70</td>\n",
       "    </tr>\n",
       "    <tr>\n",
       "      <th>50%</th>\n",
       "      <td>2004-01-01 00:00:00</td>\n",
       "      <td>16.00</td>\n",
       "      <td>7.00</td>\n",
       "      <td>2004.00</td>\n",
       "      <td>7.00</td>\n",
       "      <td>230.00</td>\n",
       "      <td>14.00</td>\n",
       "      <td>1012.90</td>\n",
       "      <td>82.50</td>\n",
       "      <td>9.40</td>\n",
       "    </tr>\n",
       "    <tr>\n",
       "      <th>75%</th>\n",
       "      <td>2006-07-02 00:00:00</td>\n",
       "      <td>23.00</td>\n",
       "      <td>10.00</td>\n",
       "      <td>2006.00</td>\n",
       "      <td>11.00</td>\n",
       "      <td>250.00</td>\n",
       "      <td>20.00</td>\n",
       "      <td>1021.00</td>\n",
       "      <td>89.80</td>\n",
       "      <td>13.00</td>\n",
       "    </tr>\n",
       "    <tr>\n",
       "      <th>max</th>\n",
       "      <td>2008-12-31 00:00:00</td>\n",
       "      <td>31.00</td>\n",
       "      <td>12.00</td>\n",
       "      <td>2008.00</td>\n",
       "      <td>41.00</td>\n",
       "      <td>360.00</td>\n",
       "      <td>71.00</td>\n",
       "      <td>1045.90</td>\n",
       "      <td>100.00</td>\n",
       "      <td>27.90</td>\n",
       "    </tr>\n",
       "    <tr>\n",
       "      <th>std</th>\n",
       "      <td>NaN</td>\n",
       "      <td>8.80</td>\n",
       "      <td>3.45</td>\n",
       "      <td>2.87</td>\n",
       "      <td>5.15</td>\n",
       "      <td>85.87</td>\n",
       "      <td>8.67</td>\n",
       "      <td>12.77</td>\n",
       "      <td>12.47</td>\n",
       "      <td>5.14</td>\n",
       "    </tr>\n",
       "  </tbody>\n",
       "</table>\n",
       "</div>"
      ],
      "text/plain": [
       "                                Date       Day     Month      Year  \\\n",
       "count                          87672  87672.00  87672.00  87672.00   \n",
       "mean   2004-01-01 00:00:00.000000128     15.73      6.52   2003.50   \n",
       "min              1999-01-01 00:00:00      1.00      1.00   1999.00   \n",
       "25%              2001-07-02 00:00:00      8.00      4.00   2001.00   \n",
       "50%              2004-01-01 00:00:00     16.00      7.00   2004.00   \n",
       "75%              2006-07-02 00:00:00     23.00     10.00   2006.00   \n",
       "max              2008-12-31 00:00:00     31.00     12.00   2008.00   \n",
       "std                              NaN      8.80      3.45      2.87   \n",
       "\n",
       "       Wind - Mean Speed (kn)  Wind - Mean Direction  \\\n",
       "count                85671.00               85096.00   \n",
       "mean                     8.16                 198.16   \n",
       "min                      0.00                   0.00   \n",
       "25%                      4.00                 130.00   \n",
       "50%                      7.00                 230.00   \n",
       "75%                     11.00                 250.00   \n",
       "max                     41.00                 360.00   \n",
       "std                      5.15                  85.87   \n",
       "\n",
       "       Wind - Max Gust Speed (kn)  Pressure at Mean Sea Level (hPa)  \\\n",
       "count                    85876.00                          85765.00   \n",
       "mean                        14.98                           1012.03   \n",
       "min                          0.00                            949.70   \n",
       "25%                          8.00                           1004.10   \n",
       "50%                         14.00                           1012.90   \n",
       "75%                         20.00                           1021.00   \n",
       "max                         71.00                           1045.90   \n",
       "std                          8.67                             12.77   \n",
       "\n",
       "       Relative Humidity  Temperature - Dry Bulb (°C)  \n",
       "count           85295.00                     85913.00  \n",
       "mean               80.53                         9.31  \n",
       "min                25.10                       -10.70  \n",
       "25%                73.40                         5.70  \n",
       "50%                82.50                         9.40  \n",
       "75%                89.80                        13.00  \n",
       "max               100.00                        27.90  \n",
       "std                12.47                         5.14  "
      ]
     },
     "execution_count": 4,
     "metadata": {},
     "output_type": "execute_result"
    }
   ],
   "source": [
    "des=round(df.describe(),2)\n",
    "des"
   ]
  },
  {
   "cell_type": "code",
   "execution_count": 5,
   "metadata": {
    "colab": {
     "base_uri": "https://localhost:8080/"
    },
    "id": "51nsYQYIayQx",
    "outputId": "27ccc8a1-1c6e-4610-f806-42d1f8a790af"
   },
   "outputs": [
    {
     "data": {
      "text/plain": [
       "Column1                                     object\n",
       "Date                                datetime64[ns]\n",
       "Day                                        float64\n",
       "Month                                      float64\n",
       "Year                                       float64\n",
       "Hour                                        object\n",
       "Wind - Mean Speed (kn)                     float64\n",
       "NB1                                         object\n",
       "Wind - Mean Direction                      float64\n",
       "NB2                                         object\n",
       "Wind - Max Gust Speed (kn)                 float64\n",
       "NB3                                         object\n",
       "Pressure at Mean Sea Level (hPa)           float64\n",
       "NB4                                         object\n",
       "Relative Humidity                          float64\n",
       "NB5                                         object\n",
       "Temperature - Dry Bulb (°C)                float64\n",
       "NB6                                         object\n",
       "dtype: object"
      ]
     },
     "execution_count": 5,
     "metadata": {},
     "output_type": "execute_result"
    }
   ],
   "source": [
    "df.dtypes"
   ]
  },
  {
   "cell_type": "markdown",
   "metadata": {
    "id": "KuIh2L3dbEzU"
   },
   "source": [
    "### 1.2 Missing value"
   ]
  },
  {
   "cell_type": "code",
   "execution_count": 6,
   "metadata": {
    "colab": {
     "base_uri": "https://localhost:8080/"
    },
    "id": "LCoYiwHgX72k",
    "outputId": "c59201bd-057a-4769-a691-fdadba554dbe"
   },
   "outputs": [
    {
     "name": "stdout",
     "output_type": "stream",
     "text": [
      "<class 'pandas.core.frame.DataFrame'>\n",
      "RangeIndex: 87674 entries, 0 to 87673\n",
      "Data columns (total 18 columns):\n",
      " #   Column                            Non-Null Count  Dtype         \n",
      "---  ------                            --------------  -----         \n",
      " 0   Column1                           87674 non-null  object        \n",
      " 1   Date                              87672 non-null  datetime64[ns]\n",
      " 2   Day                               87672 non-null  float64       \n",
      " 3   Month                             87672 non-null  float64       \n",
      " 4   Year                              87672 non-null  float64       \n",
      " 5   Hour                              87672 non-null  object        \n",
      " 6   Wind - Mean Speed (kn)            85671 non-null  float64       \n",
      " 7   NB1                               87674 non-null  object        \n",
      " 8   Wind - Mean Direction             85096 non-null  float64       \n",
      " 9   NB2                               87674 non-null  object        \n",
      " 10  Wind - Max Gust Speed (kn)        85876 non-null  float64       \n",
      " 11  NB3                               87674 non-null  object        \n",
      " 12  Pressure at Mean Sea Level (hPa)  85765 non-null  float64       \n",
      " 13  NB4                               87674 non-null  object        \n",
      " 14  Relative Humidity                 85295 non-null  float64       \n",
      " 15  NB5                               87674 non-null  object        \n",
      " 16  Temperature - Dry Bulb (°C)       85913 non-null  float64       \n",
      " 17  NB6                               87674 non-null  object        \n",
      "dtypes: datetime64[ns](1), float64(9), object(8)\n",
      "memory usage: 12.0+ MB\n"
     ]
    }
   ],
   "source": [
    "df.info()"
   ]
  },
  {
   "cell_type": "code",
   "execution_count": 7,
   "metadata": {
    "colab": {
     "base_uri": "https://localhost:8080/"
    },
    "id": "cAo31emWX7y5",
    "outputId": "3afef7eb-bb26-48eb-bc90-37f94ebda8d6"
   },
   "outputs": [
    {
     "data": {
      "text/plain": [
       "Column1                                0\n",
       "Date                                   2\n",
       "Day                                    2\n",
       "Month                                  2\n",
       "Year                                   2\n",
       "Hour                                   2\n",
       "Wind - Mean Speed (kn)              2003\n",
       "NB1                                    0\n",
       "Wind - Mean Direction               2578\n",
       "NB2                                    0\n",
       "Wind - Max Gust Speed (kn)          1798\n",
       "NB3                                    0\n",
       "Pressure at Mean Sea Level (hPa)    1909\n",
       "NB4                                    0\n",
       "Relative Humidity                   2379\n",
       "NB5                                    0\n",
       "Temperature - Dry Bulb (°C)         1761\n",
       "NB6                                    0\n",
       "dtype: int64"
      ]
     },
     "execution_count": 7,
     "metadata": {},
     "output_type": "execute_result"
    }
   ],
   "source": [
    "df.isnull().sum()"
   ]
  },
  {
   "cell_type": "markdown",
   "metadata": {
    "id": "kYG5Kw39cZYt"
   },
   "source": [
    "*  A Wind speed Time series data the missing values can be fill using the bfill or ffill methods, as the wind speed does not normally vary alot during within certain day."
   ]
  },
  {
   "cell_type": "code",
   "execution_count": 8,
   "metadata": {
    "id": "1tQrbwqYbiah"
   },
   "outputs": [],
   "source": [
    "df1=df.fillna(method='bfill')"
   ]
  },
  {
   "cell_type": "code",
   "execution_count": 9,
   "metadata": {
    "colab": {
     "base_uri": "https://localhost:8080/"
    },
    "id": "t8OBD6lDbwne",
    "outputId": "e01a4a45-fab5-4df1-8fef-91c5d1eb0cf5"
   },
   "outputs": [
    {
     "data": {
      "text/plain": [
       "0"
      ]
     },
     "execution_count": 9,
     "metadata": {},
     "output_type": "execute_result"
    }
   ],
   "source": [
    "df1.isnull().sum().sum()"
   ]
  },
  {
   "cell_type": "markdown",
   "metadata": {
    "id": "-VdqIs5weXh8"
   },
   "source": [
    "# 2. Feature Engineering"
   ]
  },
  {
   "cell_type": "code",
   "execution_count": 10,
   "metadata": {
    "colab": {
     "base_uri": "https://localhost:8080/"
    },
    "id": "09Z_2tujevOy",
    "outputId": "fb68ee59-3a62-427c-d2e4-ef851ec4eb2d"
   },
   "outputs": [
    {
     "data": {
      "text/plain": [
       "array([' ', '  -', 'NB1'], dtype=object)"
      ]
     },
     "execution_count": 10,
     "metadata": {},
     "output_type": "execute_result"
    }
   ],
   "source": [
    "df1.NB1.unique()"
   ]
  },
  {
   "cell_type": "markdown",
   "metadata": {
    "id": "14fA0oDNYngA"
   },
   "source": [
    "* The NB1 to NB6 columns are null columns filled with \" \" or \"-\", without any useful metrics. This must be removed."
   ]
  },
  {
   "cell_type": "code",
   "execution_count": 11,
   "metadata": {
    "colab": {
     "base_uri": "https://localhost:8080/"
    },
    "id": "og8QqqTZdNiy",
    "outputId": "e2cc6daa-b49b-4369-b5ff-107696e095bf"
   },
   "outputs": [
    {
     "data": {
      "text/plain": [
       "array(['NB1', 'NB2', 'NB3', 'NB4', 'NB5', 'NB6'], dtype=object)"
      ]
     },
     "execution_count": 11,
     "metadata": {},
     "output_type": "execute_result"
    }
   ],
   "source": [
    "col=df1.columns.values[7:18:2]\n",
    "col"
   ]
  },
  {
   "cell_type": "code",
   "execution_count": 12,
   "metadata": {
    "colab": {
     "base_uri": "https://localhost:8080/",
     "height": 216
    },
    "id": "mcu73zPmehkh",
    "outputId": "c8e12bd5-16a9-44bc-8799-4b51ee57e3f2"
   },
   "outputs": [
    {
     "data": {
      "text/html": [
       "<div>\n",
       "<style scoped>\n",
       "    .dataframe tbody tr th:only-of-type {\n",
       "        vertical-align: middle;\n",
       "    }\n",
       "\n",
       "    .dataframe tbody tr th {\n",
       "        vertical-align: top;\n",
       "    }\n",
       "\n",
       "    .dataframe thead th {\n",
       "        text-align: right;\n",
       "    }\n",
       "</style>\n",
       "<table border=\"1\" class=\"dataframe\">\n",
       "  <thead>\n",
       "    <tr style=\"text-align: right;\">\n",
       "      <th></th>\n",
       "      <th>Column1</th>\n",
       "      <th>Date</th>\n",
       "      <th>Day</th>\n",
       "      <th>Month</th>\n",
       "      <th>Year</th>\n",
       "      <th>Hour</th>\n",
       "      <th>Wind - Mean Speed (kn)</th>\n",
       "      <th>Wind - Mean Direction</th>\n",
       "      <th>Wind - Max Gust Speed (kn)</th>\n",
       "      <th>Pressure at Mean Sea Level (hPa)</th>\n",
       "      <th>Relative Humidity</th>\n",
       "      <th>Temperature - Dry Bulb (°C)</th>\n",
       "    </tr>\n",
       "  </thead>\n",
       "  <tbody>\n",
       "    <tr>\n",
       "      <th>0</th>\n",
       "      <td>1999-2004</td>\n",
       "      <td>1999-01-01</td>\n",
       "      <td>1.0</td>\n",
       "      <td>1.0</td>\n",
       "      <td>1999.0</td>\n",
       "      <td>00:00:00</td>\n",
       "      <td>7.0</td>\n",
       "      <td>260.0</td>\n",
       "      <td>8.0</td>\n",
       "      <td>998.099976</td>\n",
       "      <td>93.300003</td>\n",
       "      <td>3.8</td>\n",
       "    </tr>\n",
       "    <tr>\n",
       "      <th>1</th>\n",
       "      <td>1999-2004</td>\n",
       "      <td>1999-01-01</td>\n",
       "      <td>1.0</td>\n",
       "      <td>1.0</td>\n",
       "      <td>1999.0</td>\n",
       "      <td>01:00:00</td>\n",
       "      <td>4.0</td>\n",
       "      <td>260.0</td>\n",
       "      <td>11.0</td>\n",
       "      <td>997.599976</td>\n",
       "      <td>96.599998</td>\n",
       "      <td>4.3</td>\n",
       "    </tr>\n",
       "  </tbody>\n",
       "</table>\n",
       "</div>"
      ],
      "text/plain": [
       "     Column1       Date  Day  Month    Year      Hour  Wind - Mean Speed (kn)  \\\n",
       "0  1999-2004 1999-01-01  1.0    1.0  1999.0  00:00:00                     7.0   \n",
       "1  1999-2004 1999-01-01  1.0    1.0  1999.0  01:00:00                     4.0   \n",
       "\n",
       "   Wind - Mean Direction  Wind - Max Gust Speed (kn)  \\\n",
       "0                  260.0                         8.0   \n",
       "1                  260.0                        11.0   \n",
       "\n",
       "   Pressure at Mean Sea Level (hPa)  Relative Humidity  \\\n",
       "0                        998.099976          93.300003   \n",
       "1                        997.599976          96.599998   \n",
       "\n",
       "   Temperature - Dry Bulb (°C)  \n",
       "0                          3.8  \n",
       "1                          4.3  "
      ]
     },
     "execution_count": 12,
     "metadata": {},
     "output_type": "execute_result"
    }
   ],
   "source": [
    "df1.drop(col,axis=1,inplace=True)\n",
    "df1.head(2)"
   ]
  },
  {
   "cell_type": "markdown",
   "metadata": {
    "id": "V1KUJxmSg_xW"
   },
   "source": [
    "* Removing unwanted columns"
   ]
  },
  {
   "cell_type": "code",
   "execution_count": 13,
   "metadata": {
    "colab": {
     "base_uri": "https://localhost:8080/",
     "height": 182
    },
    "id": "xiR-hwh2gfWF",
    "outputId": "325bf588-330e-4a8e-fe03-c8d2e38b0ad5"
   },
   "outputs": [
    {
     "data": {
      "text/html": [
       "<div>\n",
       "<style scoped>\n",
       "    .dataframe tbody tr th:only-of-type {\n",
       "        vertical-align: middle;\n",
       "    }\n",
       "\n",
       "    .dataframe tbody tr th {\n",
       "        vertical-align: top;\n",
       "    }\n",
       "\n",
       "    .dataframe thead th {\n",
       "        text-align: right;\n",
       "    }\n",
       "</style>\n",
       "<table border=\"1\" class=\"dataframe\">\n",
       "  <thead>\n",
       "    <tr style=\"text-align: right;\">\n",
       "      <th></th>\n",
       "      <th>Date</th>\n",
       "      <th>Month</th>\n",
       "      <th>Year</th>\n",
       "      <th>Wind - Mean Speed (kn)</th>\n",
       "      <th>Wind - Mean Direction</th>\n",
       "      <th>Wind - Max Gust Speed (kn)</th>\n",
       "      <th>Pressure at Mean Sea Level (hPa)</th>\n",
       "      <th>Relative Humidity</th>\n",
       "      <th>Temperature - Dry Bulb (°C)</th>\n",
       "    </tr>\n",
       "  </thead>\n",
       "  <tbody>\n",
       "    <tr>\n",
       "      <th>0</th>\n",
       "      <td>1999-01-01</td>\n",
       "      <td>1.0</td>\n",
       "      <td>1999.0</td>\n",
       "      <td>7.0</td>\n",
       "      <td>260.0</td>\n",
       "      <td>8.0</td>\n",
       "      <td>998.099976</td>\n",
       "      <td>93.300003</td>\n",
       "      <td>3.8</td>\n",
       "    </tr>\n",
       "    <tr>\n",
       "      <th>1</th>\n",
       "      <td>1999-01-01</td>\n",
       "      <td>1.0</td>\n",
       "      <td>1999.0</td>\n",
       "      <td>4.0</td>\n",
       "      <td>260.0</td>\n",
       "      <td>11.0</td>\n",
       "      <td>997.599976</td>\n",
       "      <td>96.599998</td>\n",
       "      <td>4.3</td>\n",
       "    </tr>\n",
       "  </tbody>\n",
       "</table>\n",
       "</div>"
      ],
      "text/plain": [
       "        Date  Month    Year  Wind - Mean Speed (kn)  Wind - Mean Direction  \\\n",
       "0 1999-01-01    1.0  1999.0                     7.0                  260.0   \n",
       "1 1999-01-01    1.0  1999.0                     4.0                  260.0   \n",
       "\n",
       "   Wind - Max Gust Speed (kn)  Pressure at Mean Sea Level (hPa)  \\\n",
       "0                         8.0                        998.099976   \n",
       "1                        11.0                        997.599976   \n",
       "\n",
       "   Relative Humidity  Temperature - Dry Bulb (°C)  \n",
       "0          93.300003                          3.8  \n",
       "1          96.599998                          4.3  "
      ]
     },
     "execution_count": 13,
     "metadata": {},
     "output_type": "execute_result"
    }
   ],
   "source": [
    "df2=df1.drop([ 'Column1','Day', 'Hour'],axis=1)\n",
    "df2.head(2)"
   ]
  },
  {
   "cell_type": "markdown",
   "metadata": {
    "id": "8tPIUXeiduz-"
   },
   "source": [
    "**The data is stored by every hour for 10 years, converting it to mean windspeed by each day**"
   ]
  },
  {
   "cell_type": "code",
   "execution_count": 14,
   "metadata": {
    "colab": {
     "base_uri": "https://localhost:8080/"
    },
    "id": "BpK7uZcLhN08",
    "outputId": "f17e0201-0c81-4b21-cb60-f7d56c12ba06"
   },
   "outputs": [
    {
     "data": {
      "text/plain": [
       "Index(['Month', 'Year', 'Wind - Mean Speed (kn)', 'Wind - Mean Direction',\n",
       "       'Wind - Max Gust Speed (kn)', 'Pressure at Mean Sea Level (hPa)',\n",
       "       'Relative Humidity', 'Temperature - Dry Bulb (°C)'],\n",
       "      dtype='object')"
      ]
     },
     "execution_count": 14,
     "metadata": {},
     "output_type": "execute_result"
    }
   ],
   "source": [
    "col2=df2.columns[1:10]\n",
    "col2"
   ]
  },
  {
   "cell_type": "code",
   "execution_count": 15,
   "metadata": {
    "colab": {
     "base_uri": "https://localhost:8080/",
     "height": 279
    },
    "id": "PIsDzQ7YeI-1",
    "outputId": "0ef76202-caee-41c8-e5e3-4c6b539130b0"
   },
   "outputs": [
    {
     "data": {
      "text/html": [
       "<div>\n",
       "<style scoped>\n",
       "    .dataframe tbody tr th:only-of-type {\n",
       "        vertical-align: middle;\n",
       "    }\n",
       "\n",
       "    .dataframe tbody tr th {\n",
       "        vertical-align: top;\n",
       "    }\n",
       "\n",
       "    .dataframe thead th {\n",
       "        text-align: right;\n",
       "    }\n",
       "</style>\n",
       "<table border=\"1\" class=\"dataframe\">\n",
       "  <thead>\n",
       "    <tr style=\"text-align: right;\">\n",
       "      <th></th>\n",
       "      <th>Date</th>\n",
       "      <th>Month</th>\n",
       "      <th>Year</th>\n",
       "      <th>Wind - Mean Speed (kn)</th>\n",
       "      <th>Wind - Mean Direction</th>\n",
       "      <th>Wind - Max Gust Speed (kn)</th>\n",
       "      <th>Pressure at Mean Sea Level (hPa)</th>\n",
       "      <th>Relative Humidity</th>\n",
       "      <th>Temperature - Dry Bulb (°C)</th>\n",
       "    </tr>\n",
       "  </thead>\n",
       "  <tbody>\n",
       "    <tr>\n",
       "      <th>0</th>\n",
       "      <td>1999-01-01</td>\n",
       "      <td>1.0</td>\n",
       "      <td>1999.0</td>\n",
       "      <td>7.33</td>\n",
       "      <td>260.0</td>\n",
       "      <td>16.75</td>\n",
       "      <td>993.46</td>\n",
       "      <td>81.42</td>\n",
       "      <td>6.70</td>\n",
       "    </tr>\n",
       "    <tr>\n",
       "      <th>1</th>\n",
       "      <td>1999-01-02</td>\n",
       "      <td>1.0</td>\n",
       "      <td>1999.0</td>\n",
       "      <td>15.21</td>\n",
       "      <td>260.0</td>\n",
       "      <td>28.08</td>\n",
       "      <td>979.24</td>\n",
       "      <td>79.92</td>\n",
       "      <td>6.60</td>\n",
       "    </tr>\n",
       "    <tr>\n",
       "      <th>2</th>\n",
       "      <td>1999-01-03</td>\n",
       "      <td>1.0</td>\n",
       "      <td>1999.0</td>\n",
       "      <td>13.25</td>\n",
       "      <td>260.0</td>\n",
       "      <td>22.75</td>\n",
       "      <td>989.82</td>\n",
       "      <td>80.05</td>\n",
       "      <td>5.12</td>\n",
       "    </tr>\n",
       "    <tr>\n",
       "      <th>3</th>\n",
       "      <td>1999-01-04</td>\n",
       "      <td>1.0</td>\n",
       "      <td>1999.0</td>\n",
       "      <td>22.29</td>\n",
       "      <td>260.0</td>\n",
       "      <td>39.83</td>\n",
       "      <td>986.47</td>\n",
       "      <td>71.65</td>\n",
       "      <td>6.82</td>\n",
       "    </tr>\n",
       "  </tbody>\n",
       "</table>\n",
       "</div>"
      ],
      "text/plain": [
       "        Date  Month    Year  Wind - Mean Speed (kn)  Wind - Mean Direction  \\\n",
       "0 1999-01-01    1.0  1999.0                    7.33                  260.0   \n",
       "1 1999-01-02    1.0  1999.0                   15.21                  260.0   \n",
       "2 1999-01-03    1.0  1999.0                   13.25                  260.0   \n",
       "3 1999-01-04    1.0  1999.0                   22.29                  260.0   \n",
       "\n",
       "   Wind - Max Gust Speed (kn)  Pressure at Mean Sea Level (hPa)  \\\n",
       "0                       16.75                            993.46   \n",
       "1                       28.08                            979.24   \n",
       "2                       22.75                            989.82   \n",
       "3                       39.83                            986.47   \n",
       "\n",
       "   Relative Humidity  Temperature - Dry Bulb (°C)  \n",
       "0              81.42                         6.70  \n",
       "1              79.92                         6.60  \n",
       "2              80.05                         5.12  \n",
       "3              71.65                         6.82  "
      ]
     },
     "execution_count": 15,
     "metadata": {},
     "output_type": "execute_result"
    }
   ],
   "source": [
    "df3=round(df2.groupby(df['Date'])[col2].mean(),2)\n",
    "df3 = df3.reset_index().rename(columns={\"index\":\"date\"})\n",
    "df3.head(4)"
   ]
  },
  {
   "cell_type": "code",
   "execution_count": 16,
   "metadata": {
    "colab": {
     "base_uri": "https://localhost:8080/"
    },
    "id": "sZGi1vRqitWX",
    "outputId": "2ab11a5b-8ac7-4c70-a657-fad247ea166b"
   },
   "outputs": [
    {
     "data": {
      "text/plain": [
       "(87674, 18)"
      ]
     },
     "execution_count": 16,
     "metadata": {},
     "output_type": "execute_result"
    }
   ],
   "source": [
    "df.shape"
   ]
  },
  {
   "cell_type": "code",
   "execution_count": 17,
   "metadata": {
    "colab": {
     "base_uri": "https://localhost:8080/"
    },
    "id": "tRSHYnvGiYsy",
    "outputId": "3dcaf1b0-4913-45c6-a89e-e8299477ccea"
   },
   "outputs": [
    {
     "data": {
      "text/plain": [
       "(3653, 9)"
      ]
     },
     "execution_count": 17,
     "metadata": {},
     "output_type": "execute_result"
    }
   ],
   "source": [
    "df3.shape"
   ]
  },
  {
   "cell_type": "markdown",
   "metadata": {
    "id": "JoWq8OybibX5"
   },
   "source": [
    "* The data is now stored for each day by having the mean value for all the metrices."
   ]
  },
  {
   "cell_type": "code",
   "execution_count": 18,
   "metadata": {
    "colab": {
     "base_uri": "https://localhost:8080/"
    },
    "id": "vh1zwqVFjNwf",
    "outputId": "29a66358-d95e-4790-8ea8-d1002abf4abf"
   },
   "outputs": [
    {
     "data": {
      "text/plain": [
       "Index(['Wind - Mean Speed (kn)', 'Wind - Mean Direction',\n",
       "       'Wind - Max Gust Speed (kn)', 'Pressure at Mean Sea Level (hPa)',\n",
       "       'Relative Humidity', 'Temperature - Dry Bulb (°C)'],\n",
       "      dtype='object')"
      ]
     },
     "execution_count": 18,
     "metadata": {},
     "output_type": "execute_result"
    }
   ],
   "source": [
    "col3=df3.columns[3:]\n",
    "col3"
   ]
  },
  {
   "cell_type": "code",
   "execution_count": 19,
   "metadata": {
    "colab": {
     "base_uri": "https://localhost:8080/",
     "height": 210
    },
    "id": "RoowlzuXoDu_",
    "outputId": "2aa8b064-7e88-4977-e69e-421d243e9940"
   },
   "outputs": [
    {
     "data": {
      "text/html": [
       "<div>\n",
       "<style scoped>\n",
       "    .dataframe tbody tr th:only-of-type {\n",
       "        vertical-align: middle;\n",
       "    }\n",
       "\n",
       "    .dataframe tbody tr th {\n",
       "        vertical-align: top;\n",
       "    }\n",
       "\n",
       "    .dataframe thead th {\n",
       "        text-align: right;\n",
       "    }\n",
       "</style>\n",
       "<table border=\"1\" class=\"dataframe\">\n",
       "  <thead>\n",
       "    <tr style=\"text-align: right;\">\n",
       "      <th></th>\n",
       "      <th>Year</th>\n",
       "      <th>Month</th>\n",
       "      <th>Wind - Mean Speed (kn)</th>\n",
       "      <th>Wind - Mean Direction</th>\n",
       "      <th>Wind - Max Gust Speed (kn)</th>\n",
       "      <th>Pressure at Mean Sea Level (hPa)</th>\n",
       "      <th>Relative Humidity</th>\n",
       "      <th>Temperature - Dry Bulb (°C)</th>\n",
       "    </tr>\n",
       "  </thead>\n",
       "  <tbody>\n",
       "    <tr>\n",
       "      <th>0</th>\n",
       "      <td>1999.0</td>\n",
       "      <td>1.0</td>\n",
       "      <td>10.77</td>\n",
       "      <td>231.12</td>\n",
       "      <td>19.17</td>\n",
       "      <td>1003.29</td>\n",
       "      <td>82.68</td>\n",
       "      <td>4.46</td>\n",
       "    </tr>\n",
       "    <tr>\n",
       "      <th>1</th>\n",
       "      <td>1999.0</td>\n",
       "      <td>2.0</td>\n",
       "      <td>12.10</td>\n",
       "      <td>243.07</td>\n",
       "      <td>20.94</td>\n",
       "      <td>1012.36</td>\n",
       "      <td>77.58</td>\n",
       "      <td>4.37</td>\n",
       "    </tr>\n",
       "    <tr>\n",
       "      <th>2</th>\n",
       "      <td>1999.0</td>\n",
       "      <td>3.0</td>\n",
       "      <td>9.18</td>\n",
       "      <td>229.56</td>\n",
       "      <td>16.70</td>\n",
       "      <td>1006.94</td>\n",
       "      <td>77.79</td>\n",
       "      <td>6.26</td>\n",
       "    </tr>\n",
       "    <tr>\n",
       "      <th>3</th>\n",
       "      <td>1999.0</td>\n",
       "      <td>4.0</td>\n",
       "      <td>8.30</td>\n",
       "      <td>187.47</td>\n",
       "      <td>14.81</td>\n",
       "      <td>1010.82</td>\n",
       "      <td>80.67</td>\n",
       "      <td>8.03</td>\n",
       "    </tr>\n",
       "  </tbody>\n",
       "</table>\n",
       "</div>"
      ],
      "text/plain": [
       "     Year  Month  Wind - Mean Speed (kn)  Wind - Mean Direction  \\\n",
       "0  1999.0    1.0                   10.77                 231.12   \n",
       "1  1999.0    2.0                   12.10                 243.07   \n",
       "2  1999.0    3.0                    9.18                 229.56   \n",
       "3  1999.0    4.0                    8.30                 187.47   \n",
       "\n",
       "   Wind - Max Gust Speed (kn)  Pressure at Mean Sea Level (hPa)  \\\n",
       "0                       19.17                           1003.29   \n",
       "1                       20.94                           1012.36   \n",
       "2                       16.70                           1006.94   \n",
       "3                       14.81                           1010.82   \n",
       "\n",
       "   Relative Humidity  Temperature - Dry Bulb (°C)  \n",
       "0              82.68                         4.46  \n",
       "1              77.58                         4.37  \n",
       "2              77.79                         6.26  \n",
       "3              80.67                         8.03  "
      ]
     },
     "execution_count": 19,
     "metadata": {},
     "output_type": "execute_result"
    }
   ],
   "source": [
    "df4=round(df3.groupby(['Year','Month'])[col3].mean(),2)\n",
    "df4 = df4.reset_index().rename(columns={\"index\":\"date\"})\n",
    "df4.head(4)"
   ]
  },
  {
   "cell_type": "code",
   "execution_count": 54,
   "metadata": {
    "colab": {
     "base_uri": "https://localhost:8080/",
     "height": 405
    },
    "id": "alwEMoBCcJpQ",
    "outputId": "6a16e0a1-be25-45da-8ef7-072d2450bc98"
   },
   "outputs": [
    {
     "data": {
      "image/png": "[encoded data removed]",
      "text/plain": [
       "<Figure size 1000x400 with 1 Axes>"
      ]
     },
     "metadata": {},
     "output_type": "display_data"
    }
   ],
   "source": [
    "plt.figure(figsize=(10,4))\n",
    "plt.scatter(df4['Month'],df4['Wind - Mean Speed (kn)'])\n",
    "plt.show()"
   ]
  },
  {
   "cell_type": "markdown",
   "metadata": {
    "id": "IMS8N-yTp3vY"
   },
   "source": [
    "* Wind speeds registered during the month of **January** and **February** are the highest.\n",
    "* Wind speeds registered during the month of **July** and **August** are the lowest throughout the years."
   ]
  },
  {
   "cell_type": "markdown",
   "metadata": {
    "id": "7f3RKEJ7Domn"
   },
   "source": [
    "# 3. Hypothesis testing"
   ]
  },
  {
   "cell_type": "markdown",
   "metadata": {},
   "source": [
    "## 3.1 Normality Test"
   ]
  },
  {
   "cell_type": "markdown",
   "metadata": {
    "id": "Hq4T0kgnStxV"
   },
   "source": [
    "### Shapiro-Wilk Test : test to find if the data is normally distributed\n",
    "Assumption : Observations are identically distributed"
   ]
  },
  {
   "cell_type": "code",
   "execution_count": 21,
   "metadata": {
    "colab": {
     "base_uri": "https://localhost:8080/",
     "height": 291
    },
    "id": "amn1Pxn5Stxa",
    "outputId": "9bdc2be3-ece0-4b28-b910-60bb9944d7d4"
   },
   "outputs": [
    {
     "data": {
      "image/png": "[encoded data removed]",
      "text/plain": [
       "<Figure size 700x300 with 1 Axes>"
      ]
     },
     "metadata": {},
     "output_type": "display_data"
    }
   ],
   "source": [
    "#Cheking Histogram\n",
    "%matplotlib inline\n",
    "plt.figure(figsize=(7,3))\n",
    "plt.hist(df3['Wind - Mean Speed (kn)'])\n",
    "plt.show()"
   ]
  },
  {
   "cell_type": "code",
   "execution_count": 23,
   "metadata": {
    "colab": {
     "base_uri": "https://localhost:8080/"
    },
    "id": "FrCb-OKrStxc",
    "outputId": "6154e7a6-9a1f-460b-c7e4-ed1bf6495789"
   },
   "outputs": [
    {
     "name": "stdout",
     "output_type": "stream",
     "text": [
      "stat=0.95, p=0.000000000000000000000000000000\n",
      "Not a normal distribution\n"
     ]
    }
   ],
   "source": [
    "from scipy.stats import shapiro\n",
    "\n",
    "Data = df3['Wind - Mean Speed (kn)']\n",
    "stat, p = shapiro(Data)\n",
    "print('stat=%.2f, p=%.30f' % (stat, p))\n",
    "if p > 0.05:\n",
    "    print('Normal distribution')\n",
    "else:\n",
    "    print('Not a normal distribution')"
   ]
  },
  {
   "cell_type": "markdown",
   "metadata": {
    "id": "ieL3l62RStxj"
   },
   "source": [
    "### K^2 Normality Test : tests If data is normally distributed\n",
    "Assumption : Observations are identically distributed"
   ]
  },
  {
   "cell_type": "code",
   "execution_count": 55,
   "metadata": {
    "colab": {
     "base_uri": "https://localhost:8080/"
    },
    "id": "oPc-lzELStxj",
    "outputId": "b1915ec8-61fa-4e33-ac30-4d9dfe942eca"
   },
   "outputs": [
    {
     "name": "stdout",
     "output_type": "stream",
     "text": [
      "stat=358.5164124315, p=0.0000000000\n",
      "Not a Normal distribution\n"
     ]
    }
   ],
   "source": [
    "from scipy.stats import normaltest\n",
    "\n",
    "stat, p = normaltest(Data)\n",
    "print('stat=%.10f, p=%.10f' % (stat, p))\n",
    "if p > 0.05:\n",
    "    print('Normal Distribution')\n",
    "else:\n",
    "    print('Not a Normal distribution')"
   ]
  },
  {
   "cell_type": "markdown",
   "metadata": {
    "id": "anTvTwFXStxk"
   },
   "source": [
    "## 3.2 Correlation Test - Pearson and Spearman’s Rank Correlation\n",
    "Asumption - Identical and Normal Distribution\n",
    "To find the dependency of windspeed with various metrices"
   ]
  },
  {
   "cell_type": "code",
   "execution_count": 30,
   "metadata": {
    "colab": {
     "base_uri": "https://localhost:8080/",
     "height": 430
    },
    "id": "Hz3IaL-cStxm",
    "outputId": "19f80965-b85c-44af-b292-42f385ee9939"
   },
   "outputs": [
    {
     "data": {
      "image/png": "[encoded data removed]",
      "text/plain": [
       "<Figure size 640x480 with 1 Axes>"
      ]
     },
     "metadata": {},
     "output_type": "display_data"
    }
   ],
   "source": [
    "Sample = df4['Wind - Mean Speed (kn)']\n",
    "SecondSample = df4['Pressure at Mean Sea Level (hPa)']\n",
    "\n",
    "plt.plot(Sample,SecondSample)\n",
    "plt.show()"
   ]
  },
  {
   "cell_type": "code",
   "execution_count": 69,
   "metadata": {
    "colab": {
     "base_uri": "https://localhost:8080/"
    },
    "id": "nZH13SfBFbrA",
    "outputId": "c9866ea4-ce8a-43d3-a78f-9653c3bd864a"
   },
   "outputs": [
    {
     "data": {
      "text/plain": [
       "Index(['Year', 'Month', 'Wind - Mean Speed (kn)', 'Wind - Mean Direction',\n",
       "       'Wind - Max Gust Speed (kn)', 'Pressure at Mean Sea Level (hPa)',\n",
       "       'Relative Humidity', 'Temperature - Dry Bulb (°C)'],\n",
       "      dtype='object')"
      ]
     },
     "execution_count": 69,
     "metadata": {},
     "output_type": "execute_result"
    }
   ],
   "source": [
    "df4.columns"
   ]
  },
  {
   "cell_type": "markdown",
   "metadata": {
    "id": "gv24kKwnGM5h"
   },
   "source": [
    "### Spearman Rank Correlation"
   ]
  },
  {
   "cell_type": "markdown",
   "metadata": {
    "id": "JWyhBx7sGRlt"
   },
   "source": [
    "* Relation between Wind - Mean Speed (kn) and All the Other Factors."
   ]
  },
  {
   "cell_type": "code",
   "execution_count": 70,
   "metadata": {},
   "outputs": [],
   "source": [
    "FirstSample = df4['Wind - Mean Direction']\n",
    "SecondSample = df4['Pressure at Mean Sea Level (hPa)']\n",
    "ThirdSample = df4['Relative Humidity']\n",
    "ForthSample = df4['Temperature - Dry Bulb (°C)']\n",
    "FifthSample = df4['Wind - Max Gust Speed (kn)']\n",
    "SixthSample = df4['Month']\n",
    "\n",
    "column=['Wind - Mean Direction','Pressure at Mean Sea Level (hPa)', 'Relative Humidity',\n",
    "        'Temperature - Dry Bulb (°C)', 'Wind - Max Gust Speed (kn)','Month']"
   ]
  },
  {
   "cell_type": "code",
   "execution_count": 72,
   "metadata": {},
   "outputs": [
    {
     "name": "stdout",
     "output_type": "stream",
     "text": [
      "_____________________________________________\n",
      "\n",
      "Wind - Mean Direction\n",
      "stat=0.549, p=0.000000\n",
      "Dependent samples\n",
      "_____________________________________________\n",
      "\n",
      "Pressure at Mean Sea Level (hPa)\n",
      "stat=-0.201, p=0.027699\n",
      "Dependent samples\n",
      "_____________________________________________\n",
      "\n",
      "Relative Humidity\n",
      "stat=-0.107, p=0.245749\n",
      "Independent samples\n",
      "_____________________________________________\n",
      "\n",
      "Temperature - Dry Bulb (°C)\n",
      "stat=-0.528, p=0.000000\n",
      "Dependent samples\n",
      "_____________________________________________\n",
      "\n",
      "Wind - Max Gust Speed (kn)\n",
      "stat=0.991, p=0.000000\n",
      "Dependent samples\n",
      "_____________________________________________\n",
      "\n",
      "Month\n",
      "stat=-0.273, p=0.002556\n",
      "Dependent samples\n"
     ]
    }
   ],
   "source": [
    "from scipy.stats import spearmanr\n",
    "\n",
    "rel=[FirstSample,SecondSample,ThirdSample,ForthSample,FifthSample,SixthSample]\n",
    "j=0\n",
    "\n",
    "for i in rel:\n",
    "    stat, p = spearmanr(Sample, i)\n",
    "    print(\"_____________________________________________\\n\")\n",
    "    print(column[j])\n",
    "    print('stat=%.3f, p=%5f' % (stat, p))\n",
    "    if p > 0.05:\n",
    "        print('Independent samples')\n",
    "    else:\n",
    "        print('Dependent samples')\n",
    "    j=j+1"
   ]
  },
  {
   "cell_type": "markdown",
   "metadata": {},
   "source": [
    "### pearson correlation"
   ]
  },
  {
   "cell_type": "code",
   "execution_count": 73,
   "metadata": {
    "id": "YXmuq-ZrStxo",
    "outputId": "64a538d0-50a3-4cec-b556-6adc93e727eb"
   },
   "outputs": [
    {
     "name": "stdout",
     "output_type": "stream",
     "text": [
      "_____________________________________________\n",
      "\n",
      "Wind - Mean Direction\n",
      "stat=0.546, p=0.000000\n",
      "Dependent samples\n",
      "_____________________________________________\n",
      "\n",
      "Pressure at Mean Sea Level (hPa)\n",
      "stat=-0.224, p=0.014064\n",
      "Dependent samples\n",
      "_____________________________________________\n",
      "\n",
      "Relative Humidity\n",
      "stat=-0.090, p=0.326729\n",
      "Independent samples\n",
      "_____________________________________________\n",
      "\n",
      "Temperature - Dry Bulb (°C)\n",
      "stat=-0.521, p=0.000000\n",
      "Dependent samples\n",
      "_____________________________________________\n",
      "\n",
      "Wind - Max Gust Speed (kn)\n",
      "stat=0.993, p=0.000000\n",
      "Dependent samples\n",
      "_____________________________________________\n",
      "\n",
      "Month\n",
      "stat=-0.313, p=0.000504\n",
      "Dependent samples\n"
     ]
    }
   ],
   "source": [
    "from scipy.stats import pearsonr\n",
    "\n",
    "j=0\n",
    "for i in rel:\n",
    "    stat, p = pearsonr(Sample, i)\n",
    "    print(\"_____________________________________________\\n\")\n",
    "    print(column[j])\n",
    "    print('stat=%.3f, p=%5f' % (stat, p))\n",
    "    if p > 0.05:\n",
    "        print('Independent samples')\n",
    "    else:\n",
    "        print('Dependent samples')\n",
    "    j=j+1"
   ]
  },
  {
   "cell_type": "markdown",
   "metadata": {},
   "source": [
    "* Columns **'Wind - Mean Direction','Pressure at Mean Sea Level (hPa)', 'Relative Humidity','Temperature - Dry Bulb (°C)', 'Wind - Max Gust Speed (kn)'** and **'Month'** all have a high correlation with **'Wind - Mean Speed (kn)'**\n",
    "* The only metrics which dont have a correlation with the **'Wind - Mean Speed (kn)'** is **Relative Humidity** column."
   ]
  },
  {
   "cell_type": "code",
   "execution_count": 67,
   "metadata": {
    "id": "vvqUB8F2Stxp",
    "outputId": "d4e9416b-d1a3-4f4e-e77a-50c0a3c70475"
   },
   "outputs": [],
   "source": [
    "cor=round(df4.corr(method=\"pearson\"),3)"
   ]
  },
  {
   "cell_type": "code",
   "execution_count": 68,
   "metadata": {},
   "outputs": [
    {
     "data": {
      "image/png": "[encoded data removed]",
      "text/plain": [
       "<Figure size 1200x800 with 2 Axes>"
      ]
     },
     "metadata": {},
     "output_type": "display_data"
    }
   ],
   "source": [
    "plt.figure(figsize=(12,8))\n",
    "sns.heatmap(cor,annot=True)\n",
    "plt.show()"
   ]
  },
  {
   "cell_type": "markdown",
   "metadata": {
    "id": "KgETQ9P7StyW"
   },
   "source": [
    "# 4. Test of Stationarity for time series analysis"
   ]
  },
  {
   "cell_type": "markdown",
   "metadata": {},
   "source": [
    "## 4.1 Augmented Dickey-Fuller Test\n",
    "* Null Hypothesis (HO): Series is non-stationary, or series has a unit root.\n",
    "* Alternate Hypothesis(HA): Series is stationary, or series has no unit root.\n"
   ]
  },
  {
   "cell_type": "code",
   "execution_count": 83,
   "metadata": {
    "id": "GfqIQvotStyY"
   },
   "outputs": [
    {
     "name": "stdout",
     "output_type": "stream",
     "text": [
      "_____________________________________________\n",
      "\n",
      "Wind - Mean Direction\n",
      "stat=-6.098, p=0.000000\n",
      "Series is stationary\n",
      "_____________________________________________\n",
      "\n",
      "Pressure at Mean Sea Level (hPa)\n",
      "stat=-9.537, p=0.000000\n",
      "Series is stationary\n",
      "_____________________________________________\n",
      "\n",
      "Relative Humidity\n",
      "stat=-5.747, p=0.000001\n",
      "Series is stationary\n",
      "_____________________________________________\n",
      "\n",
      "Temperature - Dry Bulb (°C)\n",
      "stat=-1.966, p=0.301668\n",
      "Series is not Stationary\n",
      "_____________________________________________\n",
      "\n",
      "Wind - Max Gust Speed (kn)\n",
      "stat=-6.407, p=0.000000\n",
      "Series is stationary\n",
      "_____________________________________________\n",
      "\n",
      "Month\n",
      "stat=-207894290926852.844, p=0.000000\n",
      "Series is stationary\n"
     ]
    }
   ],
   "source": [
    "from statsmodels.tsa.stattools import adfuller\n",
    "\n",
    "j=0\n",
    "for i in rel:\n",
    "    stat, p, lags, obs, crit, t = adfuller(i)\n",
    "    print(\"_____________________________________________\\n\")\n",
    "    print(column[j])\n",
    "    print('stat=%.3f, p=%5f' % (stat, p))\n",
    "    if p > 0.05:\n",
    "        print('Series is not Stationary')\n",
    "    else:\n",
    "        print('Series is stationary')\n",
    "    j=j+1"
   ]
  },
  {
   "cell_type": "markdown",
   "metadata": {},
   "source": [
    "## 4.2 Kwiatkowski-Phillips-Schmidt-Shin test\n",
    "\n",
    "* Null hypothesis (H0) - An observable time series is stationary around a deterministic trend."
   ]
  },
  {
   "cell_type": "code",
   "execution_count": 93,
   "metadata": {
    "id": "zTsH-I_pStya"
   },
   "outputs": [
    {
     "name": "stdout",
     "output_type": "stream",
     "text": [
      "_____________________________________________\n",
      "\n",
      "Wind - Mean Direction\n",
      "stat=0.040, p=0.100000\n",
      "Series is Stationary\n",
      "_____________________________________________\n",
      "\n",
      "Pressure at Mean Sea Level (hPa)\n",
      "stat=0.090, p=0.100000\n",
      "Series is Stationary\n",
      "_____________________________________________\n",
      "\n",
      "Relative Humidity\n",
      "stat=0.070, p=0.100000\n",
      "Series is Stationary\n",
      "_____________________________________________\n",
      "\n",
      "Temperature - Dry Bulb (°C)\n",
      "stat=0.015, p=0.100000\n",
      "Series is Stationary\n",
      "_____________________________________________\n",
      "\n",
      "Wind - Max Gust Speed (kn)\n",
      "stat=0.073, p=0.100000\n",
      "Series is Stationary\n",
      "_____________________________________________\n",
      "\n",
      "Month\n",
      "stat=0.021, p=0.100000\n",
      "Series is Stationary\n"
     ]
    }
   ],
   "source": [
    "import warnings\n",
    "warnings.filterwarnings('ignore')\n",
    "from statsmodels.tsa.stattools import kpss\n",
    "\n",
    "j=0\n",
    "for i in rel:\n",
    "    kpss_stat, p, lags, crit = kpss(i,regression=\"ct\")\n",
    "    print(\"_____________________________________________\\n\")\n",
    "    print(column[j])\n",
    "    print('stat=%.3f, p=%5f' % (kpss_stat, p))\n",
    "    if p > 0.05:\n",
    "        print('Series is Stationary')\n",
    "    else:\n",
    "        print('Series is not stationary')\n",
    "    j=j+1"
   ]
  },
  {
   "cell_type": "markdown",
   "metadata": {
    "id": "JwsM1qPVStxp"
   },
   "source": [
    "## Chi square test"
   ]
  },
  {
   "cell_type": "code",
   "execution_count": null,
   "metadata": {
    "id": "ovSYKWm-Stxq"
   },
   "outputs": [],
   "source": [
    "#Tests whether two categorical variables are related or independent.\n",
    "#Assumptions - independent observation, size in each box of contingency table > 25\n",
    "# Example of the Chi-Squared Test\n"
   ]
  },
  {
   "cell_type": "code",
   "execution_count": 76,
   "metadata": {
    "id": "qVB6UGLqStxs"
   },
   "outputs": [],
   "source": [
    "contingency_data = pd.crosstab( df3['Wind - Mean Speed (kn)'],df3['Month'],margins = False)"
   ]
  },
  {
   "cell_type": "code",
   "execution_count": 78,
   "metadata": {
    "id": "piL7c0GSStxt"
   },
   "outputs": [],
   "source": [
    "from scipy.stats import chi2_contingency"
   ]
  },
  {
   "cell_type": "code",
   "execution_count": 79,
   "metadata": {
    "id": "F3Qx-jWiStxt",
    "outputId": "d914f6d7-4522-466c-9a7e-a9004f8e93f2"
   },
   "outputs": [
    {
     "name": "stdout",
     "output_type": "stream",
     "text": [
      "stat=5462.669, p=0.001\n",
      "dependent categories\n"
     ]
    }
   ],
   "source": [
    "stat, p, dof, expected = chi2_contingency(contingency_data)\n",
    "print('stat=%.3f, p=%.3f' % (stat, p))\n",
    "if p > 0.05:\n",
    "    print('independent categories')\n",
    "else:\n",
    "    print('dependent categories')"
   ]
  },
  {
   "cell_type": "markdown",
   "metadata": {
    "id": "oU5y9jeIStxx"
   },
   "source": [
    "## 5.Parametic test"
   ]
  },
  {
   "cell_type": "markdown",
   "metadata": {},
   "source": [
    "### 5.1. Z-Test"
   ]
  },
  {
   "cell_type": "code",
   "execution_count": 82,
   "metadata": {
    "id": "nYdbS65aStx2",
    "outputId": "76921e52-506c-49c6-fbea-9e2246a4a77e"
   },
   "outputs": [
    {
     "data": {
      "text/plain": [
       "(18.49753946336752, 2.1611777521216474e-76)"
      ]
     },
     "execution_count": 82,
     "metadata": {},
     "output_type": "execute_result"
    }
   ],
   "source": [
    "from statsmodels.stats.weightstats import ztest as ztest\n",
    "ztest(df3['Wind - Mean Speed (kn)'],df3['Month'])"
   ]
  },
  {
   "cell_type": "code",
   "execution_count": null,
   "metadata": {
    "id": "CPiAoqmgStyK",
    "outputId": "f9928ba3-e8ed-442f-b750-24917455a9e6"
   },
   "outputs": [
    {
     "data": {
      "text/plain": [
       "Ttest_relResult(statistic=-13.88788431654638, pvalue=2.1983272300073563e-07)"
      ]
     },
     "execution_count": 103,
     "metadata": {},
     "output_type": "execute_result"
    }
   ],
   "source": [
    "#Apired sample t-test\n",
    "scipy.stats.ttest_rel(my_score,my_score_second_Tour)"
   ]
  },
  {
   "cell_type": "markdown",
   "metadata": {
    "id": "LdTPxfpeStyL"
   },
   "source": [
    "### 5.2. Anova\n",
    "* Tests whether the means of two or more independent samples are significantly different.\n",
    "* Assumption -  Normal distributon, same variance, identical distribution"
   ]
  },
  {
   "cell_type": "code",
   "execution_count": null,
   "metadata": {
    "id": "GGxkh-bwStyQ",
    "outputId": "5555226c-0ace-4dae-d7ed-9c4650f75661"
   },
   "outputs": [
    {
     "name": "stdout",
     "output_type": "stream",
     "text": [
      "stat=-0.949, p=0.000\n",
      "Different distributions of scores\n"
     ]
    }
   ],
   "source": [
    "tstat, p = scipy.stats.f_oneway(df3['Wind - Mean Speed (kn)'],df3['Month'])\n",
    "print('stat=%.3f, p=%.3f' % (stat, p))\n",
    "if p > 0.05:\n",
    "    print('Same distribution of scores')\n",
    "else:\n",
    "    print('Different distributions of scores')"
   ]
  },
  {
   "cell_type": "markdown",
   "metadata": {
    "id": "H-Awl9Y-StyR"
   },
   "source": [
    "## 6. Non Parametric test 1"
   ]
  },
  {
   "cell_type": "markdown",
   "metadata": {},
   "source": [
    "### 6.1 Mann-Whitney U Test\n",
    "* Tests whether the distributions of two or more independent samples are equal or not."
   ]
  },
  {
   "cell_type": "code",
   "execution_count": null,
   "metadata": {
    "id": "XTlH4r9CStyS"
   },
   "outputs": [],
   "source": [
    "#Assumptions - Idential distribution, observations can be ranked"
   ]
  },
  {
   "cell_type": "code",
   "execution_count": null,
   "metadata": {
    "id": "KZIG4wacStyT"
   },
   "outputs": [],
   "source": [
    "class_1_score = [91,90,81,80,76]\n",
    "class_2_score = [88,86,85,84,83]"
   ]
  },
  {
   "cell_type": "code",
   "execution_count": null,
   "metadata": {
    "id": "vCoryH4YStyU",
    "outputId": "1afdd83d-4db4-46ef-af13-7fa36ce8b997"
   },
   "outputs": [
    {
     "name": "stdout",
     "output_type": "stream",
     "text": [
      "stat=-0.949, p=0.338\n",
      "Same distribution\n"
     ]
    }
   ],
   "source": [
    "tstat, p = scipy.stats.mannwhitneyu(class_1_score, class_2_score)\n",
    "print('stat=%.3f, p=%.3f' % (stat, p))\n",
    "if p > 0.05:\n",
    "    print('Same distribution')\n",
    "else:\n",
    "    print('Different distributions')"
   ]
  },
  {
   "cell_type": "code",
   "execution_count": null,
   "metadata": {
    "id": "K1vpCzV3StyX"
   },
   "outputs": [],
   "source": []
  }
 ],
 "metadata": {
  "colab": {
   "provenance": []
  },
  "kernelspec": {
   "display_name": "Python 3 (ipykernel)",
   "language": "python",
   "name": "python3"
  },
  "language_info": {
   "codemirror_mode": {
    "name": "ipython",
    "version": 3
   },
   "file_extension": ".py",
   "mimetype": "text/x-python",
   "name": "python",
   "nbconvert_exporter": "python",
   "pygments_lexer": "ipython3",
   "version": "3.11.5"
  }
 },
 "nbformat": 4,
 "nbformat_minor": 1
}
